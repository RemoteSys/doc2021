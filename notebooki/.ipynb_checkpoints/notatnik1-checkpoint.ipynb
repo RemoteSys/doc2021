{
 "cells": [
  {
   "cell_type": "markdown",
   "id": "provincial-genesis",
   "metadata": {},
   "source": [
    "# Start - pierwszy notatnik\n",
    "\n",
    "## Cela w trybie 'markdown`\n",
    "\n",
    "Opisy kodu:\n",
    "- składnia `markdown`\n",
    "- zwykły tekst\n",
    "- rsunki\n",
    "- wzory matematyczne w `Laytex-u`\n",
    "\n",
    "> ozdobniki\n",
    "\n",
    "\n",
    "# Anova - wzory\n",
    "\n",
    "$$F = \\frac{msa}{msr}$$\n",
    "\n",
    "### 1. `msa`\n",
    "\n",
    "$$msa = \\frac{ssa}{p-1}$$\n",
    "\n",
    "$$ssa = \\sum_{j=1}^p  ssa_i$$\n",
    "\n",
    "$$ssa_i = n_j \\cdot(\\bar{x_j}-\\bar{x})^2$$\n",
    "\n",
    "\n",
    "### 2. `msr`\n",
    "\n",
    "\n",
    "$$msr = \\frac{ssr}{n-p}$$\n",
    "\n",
    "$$ssr = \\sum_{j=1}^p ssr_i$$\n",
    "\n",
    "$$ssr_i=\\sum_{ij=1}^{n_j} (x_{ij}-\\bar{x_j})^2$$\n",
    "\n",
    "\n"
   ]
  },
  {
   "cell_type": "markdown",
   "id": "excessive-morning",
   "metadata": {},
   "source": [
    "# I. Import i `path`"
   ]
  },
  {
   "cell_type": "code",
   "execution_count": 3,
   "id": "distributed-worst",
   "metadata": {},
   "outputs": [],
   "source": [
    "# - komentarz\n",
    "\n",
    "# import modułów\n",
    "import sys\n",
    "import random as rn\n",
    "from matplotlib import pyplot as plt\n",
    "import numpy as np\n",
    "import pandas as pd"
   ]
  },
  {
   "cell_type": "code",
   "execution_count": 2,
   "id": "southern-divide",
   "metadata": {},
   "outputs": [
    {
     "data": {
      "text/plain": [
       "'/home/u1/22_dydaktyka/06Doktor/doc2021/notebooki'"
      ]
     },
     "execution_count": 2,
     "metadata": {},
     "output_type": "execute_result"
    }
   ],
   "source": [
    "# sprawdzenie katalogu roboczego\n",
    "%pwd"
   ]
  },
  {
   "cell_type": "code",
   "execution_count": 3,
   "id": "obvious-think",
   "metadata": {},
   "outputs": [
    {
     "data": {
      "text/plain": [
       "['/home/u1/22_dydaktyka/06Doktor/doc2021/notebooki',\n",
       " '/home/u1/anaconda3/envs/doc2/lib/python39.zip',\n",
       " '/home/u1/anaconda3/envs/doc2/lib/python3.9',\n",
       " '/home/u1/anaconda3/envs/doc2/lib/python3.9/lib-dynload',\n",
       " '',\n",
       " '/home/u1/anaconda3/envs/doc2/lib/python3.9/site-packages',\n",
       " '/home/u1/anaconda3/envs/doc2/lib/python3.9/site-packages/IPython/extensions',\n",
       " '/home/u1/.ipython',\n",
       " '/home/u1/22_dydaktyka/06Doktor/doc2021/']"
      ]
     },
     "execution_count": 3,
     "metadata": {},
     "output_type": "execute_result"
    }
   ],
   "source": [
    "# dodawanie tymczasowej ścieżki wyszukiwań\n",
    "sys.path.append('/home/u1/22_dydaktyka/06Doktor/doc2021/')\n",
    "sys.path"
   ]
  },
  {
   "cell_type": "markdown",
   "id": "ancient-cooperation",
   "metadata": {},
   "source": [
    "# II. `numpy`"
   ]
  },
  {
   "cell_type": "code",
   "execution_count": 5,
   "id": "appointed-recovery",
   "metadata": {},
   "outputs": [
    {
     "name": "stdout",
     "output_type": "stream",
     "text": [
      "ar: [0 1 2 3 4 5 6 7 8 9]\n",
      "typ: int64\n"
     ]
    }
   ],
   "source": [
    "ar = np.arange(10)\n",
    "print(f'typ: {type(ar)}\\ndtype: {ar.dtype}\\n dim: {ar.ndim}\\nshape: {ar.shape}\\nsize: {ar.size}')"
   ]
  },
  {
   "cell_type": "code",
   "execution_count": 6,
   "id": "exclusive-details",
   "metadata": {},
   "outputs": [
    {
     "name": "stdout",
     "output_type": "stream",
     "text": [
      "ar: [10.    10.1   10.2   10.305 10.41  10.51  10.61  10.71  10.81  10.914\n",
      " 11.016 11.12  11.22  11.32  11.42  11.52  11.625 11.73  11.83  11.93 ]\n",
      "typ: float16\n",
      "shape: (20,), size: 20, dim: 1\n"
     ]
    }
   ],
   "source": [
    "ar = np.arange(10,12,0.1,dtype=np.float16)\n",
    "print(f'typ: {type(ar)}\\ndtype: {ar.dtype}\\n dim: {ar.ndim}\\nshape: {ar.shape}\\nsize: {ar.size}')"
   ]
  },
  {
   "cell_type": "code",
   "execution_count": 7,
   "id": "inclusive-russell",
   "metadata": {},
   "outputs": [
    {
     "name": "stdout",
     "output_type": "stream",
     "text": [
      "ar:\n",
      "[[ 0.  1.  2.  3.  4.]\n",
      " [ 5.  6.  7.  8.  9.]\n",
      " [10. 11. 12. 13. 14.]\n",
      " [15. 16. 17. 18. 19.]]\n",
      "typ: float16\n",
      "shape: (4, 5), size: 20, dim: 2\n"
     ]
    }
   ],
   "source": [
    "# tablica 2-wymiarow\n",
    "ar = np.arange(4*5,dtype=np.float16).reshape(4,5)\n",
    "print(f'typ: {type(ar)}\\ndtype: {ar.dtype}\\n dim: {ar.ndim}\\nshape: {ar.shape}\\nsize: {ar.size}')"
   ]
  },
  {
   "cell_type": "code",
   "execution_count": 4,
   "id": "sunrise-current",
   "metadata": {},
   "outputs": [
    {
     "name": "stdout",
     "output_type": "stream",
     "text": [
      "typ: <class 'numpy.ndarray'>\n",
      "dtype: float16\n",
      " dim: 4\n",
      "shape: (4, 3, 2, 3)\n",
      "size: 72\n"
     ]
    },
    {
     "data": {
      "text/plain": [
       "array([[[[ 0.,  1.,  2.],\n",
       "         [ 3.,  4.,  5.]],\n",
       "\n",
       "        [[ 6.,  7.,  8.],\n",
       "         [ 9., 10., 11.]],\n",
       "\n",
       "        [[12., 13., 14.],\n",
       "         [15., 16., 17.]]],\n",
       "\n",
       "\n",
       "       [[[18., 19., 20.],\n",
       "         [21., 22., 23.]],\n",
       "\n",
       "        [[24., 25., 26.],\n",
       "         [27., 28., 29.]],\n",
       "\n",
       "        [[30., 31., 32.],\n",
       "         [33., 34., 35.]]],\n",
       "\n",
       "\n",
       "       [[[36., 37., 38.],\n",
       "         [39., 40., 41.]],\n",
       "\n",
       "        [[42., 43., 44.],\n",
       "         [45., 46., 47.]],\n",
       "\n",
       "        [[48., 49., 50.],\n",
       "         [51., 52., 53.]]],\n",
       "\n",
       "\n",
       "       [[[54., 55., 56.],\n",
       "         [57., 58., 59.]],\n",
       "\n",
       "        [[60., 61., 62.],\n",
       "         [63., 64., 65.]],\n",
       "\n",
       "        [[66., 67., 68.],\n",
       "         [69., 70., 71.]]]], dtype=float16)"
      ]
     },
     "execution_count": 4,
     "metadata": {},
     "output_type": "execute_result"
    }
   ],
   "source": [
    "ar = np.arange(4*3*2*3,dtype=np.float16).reshape(4,3,2,3)\n",
    "print(f'typ: {type(ar)}\\ndtype: {ar.dtype}\\n dim: {ar.ndim}\\nshape: {ar.shape}\\nsize: {ar.size}')\n",
    "ar"
   ]
  },
  {
   "cell_type": "markdown",
   "id": "artistic-indian",
   "metadata": {},
   "source": [
    "## 1. wybieranie / indeksowanie\n",
    "\n",
    "### - 1d array"
   ]
  },
  {
   "cell_type": "code",
   "execution_count": 7,
   "id": "cathedral-karen",
   "metadata": {},
   "outputs": [
    {
     "data": {
      "text/plain": [
       "array([ 1,  2,  3,  4,  5,  6,  7,  8,  9, 10])"
      ]
     },
     "execution_count": 7,
     "metadata": {},
     "output_type": "execute_result"
    }
   ],
   "source": [
    "ar1 = np.arange(1,11)\n",
    "ar1"
   ]
  },
  {
   "cell_type": "code",
   "execution_count": 12,
   "id": "aggressive-attendance",
   "metadata": {},
   "outputs": [
    {
     "name": "stdout",
     "output_type": "stream",
     "text": [
      "pierwszy element: 1\n",
      "zakres: \t[2 3 4]\n",
      "co 3-ci:\t[ 1  4  7 10]\n"
     ]
    }
   ],
   "source": [
    "# start, stop, step\n",
    "print(f'pierwszy element: {ar1[0]}\\nzakres: \\t{ar1[1:4]}\\nco 3-ci:\\t{ar1[::3]}')"
   ]
  },
  {
   "cell_type": "markdown",
   "id": "painted-allergy",
   "metadata": {},
   "source": [
    "### - 2d array"
   ]
  },
  {
   "cell_type": "code",
   "execution_count": 13,
   "id": "vietnamese-ownership",
   "metadata": {},
   "outputs": [
    {
     "data": {
      "text/plain": [
       "array([[ 0,  1,  2,  3],\n",
       "       [ 4,  5,  6,  7],\n",
       "       [ 8,  9, 10, 11],\n",
       "       [12, 13, 14, 15],\n",
       "       [16, 17, 18, 19]])"
      ]
     },
     "execution_count": 13,
     "metadata": {},
     "output_type": "execute_result"
    }
   ],
   "source": [
    "ar2 = np.arange(5*4).reshape(5,4)\n",
    "ar2"
   ]
  },
  {
   "cell_type": "code",
   "execution_count": 16,
   "id": "still-blond",
   "metadata": {},
   "outputs": [
    {
     "data": {
      "text/plain": [
       "array([0, 1, 2, 3])"
      ]
     },
     "execution_count": 16,
     "metadata": {},
     "output_type": "execute_result"
    }
   ],
   "source": [
    "# start:stop:step (wiersze), start:stop:step (kolumny)\n",
    "# pierwszy wiersz\n",
    "ar2[0,:]"
   ]
  },
  {
   "cell_type": "code",
   "execution_count": 17,
   "id": "junior-mailman",
   "metadata": {},
   "outputs": [
    {
     "data": {
      "text/plain": [
       "array([ 0,  4,  8, 12, 16])"
      ]
     },
     "execution_count": 17,
     "metadata": {},
     "output_type": "execute_result"
    }
   ],
   "source": [
    "# pierwsza kolumna\n",
    "ar2[:,0]"
   ]
  },
  {
   "cell_type": "code",
   "execution_count": 18,
   "id": "whole-conjunction",
   "metadata": {},
   "outputs": [
    {
     "data": {
      "text/plain": [
       "array([[ 6,  7],\n",
       "       [10, 11]])"
      ]
     },
     "execution_count": 18,
     "metadata": {},
     "output_type": "execute_result"
    }
   ],
   "source": [
    "# zakres wierszy i kolumn\n",
    "ar2[1:3, -2:]"
   ]
  },
  {
   "cell_type": "code",
   "execution_count": 20,
   "id": "through-laundry",
   "metadata": {},
   "outputs": [
    {
     "data": {
      "text/plain": [
       "array([[ 1,  3],\n",
       "       [13, 15]])"
      ]
     },
     "execution_count": 20,
     "metadata": {},
     "output_type": "execute_result"
    }
   ],
   "source": [
    "# co 3 wiersz i co 2 kolumna licząc od indeksu 1\n",
    "ar2[::3,1::2]"
   ]
  },
  {
   "cell_type": "markdown",
   "id": "automotive-arctic",
   "metadata": {},
   "source": [
    "### - drugi sposób:\n",
    "`indywidualne indeksy w nawiasach kwadratowych`"
   ]
  },
  {
   "cell_type": "code",
   "execution_count": 23,
   "id": "ahead-updating",
   "metadata": {},
   "outputs": [
    {
     "data": {
      "text/plain": [
       "array([[16, 17, 18, 19],\n",
       "       [ 8,  9, 10, 11],\n",
       "       [ 0,  1,  2,  3]])"
      ]
     },
     "execution_count": 23,
     "metadata": {},
     "output_type": "execute_result"
    }
   ],
   "source": [
    "# wybór wierszy: ostatni, trzeci i pierwszy\n",
    "ar2[[-1,2,0]]"
   ]
  },
  {
   "cell_type": "code",
   "execution_count": 24,
   "id": "russian-mounting",
   "metadata": {},
   "outputs": [
    {
     "data": {
      "text/plain": [
       "array([[ 3,  2,  0],\n",
       "       [ 7,  6,  4],\n",
       "       [11, 10,  8],\n",
       "       [15, 14, 12],\n",
       "       [19, 18, 16]])"
      ]
     },
     "execution_count": 24,
     "metadata": {},
     "output_type": "execute_result"
    }
   ],
   "source": [
    "# wybór kolumn\n",
    "ar2[:,[-1,2,0]]"
   ]
  },
  {
   "cell_type": "code",
   "execution_count": 26,
   "id": "governmental-management",
   "metadata": {},
   "outputs": [
    {
     "data": {
      "text/plain": [
       "array([19, 10,  0])"
      ]
     },
     "execution_count": 26,
     "metadata": {},
     "output_type": "execute_result"
    }
   ],
   "source": [
    "# wybór elementów wskazywanych przez wybrane wiersze i kolumny\n",
    "ar2[[-1,2,0],[-1,2,0]]"
   ]
  },
  {
   "cell_type": "code",
   "execution_count": 27,
   "id": "distributed-pursuit",
   "metadata": {
    "scrolled": true
   },
   "outputs": [
    {
     "data": {
      "text/plain": [
       "array([[ 3,  2,  0],\n",
       "       [11, 10,  8],\n",
       "       [19, 18, 16]])"
      ]
     },
     "execution_count": 27,
     "metadata": {},
     "output_type": "execute_result"
    }
   ],
   "source": [
    "# indelsowanie mieszane\n",
    "ar2[::2,[-1,2,0]]"
   ]
  },
  {
   "cell_type": "markdown",
   "id": "ultimate-framing",
   "metadata": {},
   "source": [
    "## 2. wybór z wykorzystanie warunków logicznych"
   ]
  },
  {
   "cell_type": "code",
   "execution_count": 28,
   "id": "lovely-poultry",
   "metadata": {},
   "outputs": [
    {
     "data": {
      "text/plain": [
       "array([[False, False, False, False],\n",
       "       [False, False, False, False],\n",
       "       [False,  True,  True,  True],\n",
       "       [ True,  True,  True,  True],\n",
       "       [ True,  True,  True,  True]])"
      ]
     },
     "execution_count": 28,
     "metadata": {},
     "output_type": "execute_result"
    }
   ],
   "source": [
    "# utworzenie indeksu spełniającego warunek\n",
    "idx = ar2 > 8\n",
    "idx"
   ]
  },
  {
   "cell_type": "code",
   "execution_count": 30,
   "id": "catholic-financing",
   "metadata": {},
   "outputs": [
    {
     "name": "stdout",
     "output_type": "stream",
     "text": [
      "[ 9 10 11 12 13 14 15 16 17 18 19] \n",
      "\n",
      "[0 1 2 3 4 5 6 7 8]\n"
     ]
    }
   ],
   "source": [
    "# wybór danych spełniających warunek\n",
    "print(ar2[idx],'\\n')\n",
    "\n",
    "# wybór danych, które nie spełniają warunku\n",
    "print(ar2[~idx])"
   ]
  },
  {
   "cell_type": "code",
   "execution_count": 31,
   "id": "veterinary-opening",
   "metadata": {},
   "outputs": [
    {
     "data": {
      "text/plain": [
       "array([ 9, 10, 11, 12, 13, 14, 15, 16, 17, 18, 19])"
      ]
     },
     "execution_count": 31,
     "metadata": {},
     "output_type": "execute_result"
    }
   ],
   "source": [
    "# zapis skrócony - warunek jako indeks\n",
    "ar2[ar2>8]"
   ]
  },
  {
   "cell_type": "code",
   "execution_count": 32,
   "id": "pressed-ethernet",
   "metadata": {},
   "outputs": [
    {
     "data": {
      "text/plain": [
       "array([[ 0,  1,  2,  3],\n",
       "       [ 4,  5,  6,  7],\n",
       "       [ 8, 99, 99, 99],\n",
       "       [99, 99, 99, 99],\n",
       "       [99, 99, 99, 99]])"
      ]
     },
     "execution_count": 32,
     "metadata": {},
     "output_type": "execute_result"
    }
   ],
   "source": [
    "# modyfikowanie elementów spełniających warunek\n",
    "ar2[ar2>8] = 99\n",
    "ar2"
   ]
  },
  {
   "cell_type": "code",
   "execution_count": 33,
   "id": "temporal-alexander",
   "metadata": {},
   "outputs": [
    {
     "data": {
      "text/plain": [
       "array([[-1, -1, -1, -1],\n",
       "       [-1, -1, -1, -1],\n",
       "       [-1, 99, 99, 99],\n",
       "       [99, 99, 99, 99],\n",
       "       [99, 99, 99, 99]])"
      ]
     },
     "execution_count": 33,
     "metadata": {},
     "output_type": "execute_result"
    }
   ],
   "source": [
    "ar2[~idx] = -1\n",
    "ar2"
   ]
  },
  {
   "cell_type": "code",
   "execution_count": 34,
   "id": "driving-lingerie",
   "metadata": {},
   "outputs": [
    {
     "name": "stdout",
     "output_type": "stream",
     "text": [
      "[[ 0  1  2  3]\n",
      " [ 4  5  6  7]\n",
      " [ 8  9 10 11]\n",
      " [12 13 14 15]\n",
      " [16 17 18 19]]\n"
     ]
    },
    {
     "data": {
      "text/plain": [
       "array([ 5,  6,  7,  8,  9, 10, 11, 12, 13, 14])"
      ]
     },
     "execution_count": 34,
     "metadata": {},
     "output_type": "execute_result"
    }
   ],
   "source": [
    "# przywrócenie tablicy\n",
    "ar2 = np.arange(5*4).reshape(5,4)\n",
    "print(ar2)\n",
    "\n",
    "# łączenie warunków\n",
    "ar2[(ar2>4) & (ar2<=14)]"
   ]
  },
  {
   "cell_type": "code",
   "execution_count": 35,
   "id": "congressional-world",
   "metadata": {},
   "outputs": [
    {
     "data": {
      "text/plain": [
       "array([[  0,   1,   2,   3],\n",
       "       [  4, 100, 100, 100],\n",
       "       [100, 100, 100, 100],\n",
       "       [100, 100, 100,  15],\n",
       "       [ 16,  17,  18,  19]])"
      ]
     },
     "execution_count": 35,
     "metadata": {},
     "output_type": "execute_result"
    }
   ],
   "source": [
    "# modyfikacja danych wg warunku\n",
    "ar2[(ar2>4) & (ar2<=14)] = 100\n",
    "ar2"
   ]
  },
  {
   "cell_type": "markdown",
   "id": "average-oasis",
   "metadata": {},
   "source": [
    "## 3. Operacje na tablicach"
   ]
  },
  {
   "cell_type": "code",
   "execution_count": 36,
   "id": "built-attribute",
   "metadata": {},
   "outputs": [
    {
     "data": {
      "text/plain": [
       "array([[0, 1, 2],\n",
       "       [3, 4, 5],\n",
       "       [6, 7, 8]])"
      ]
     },
     "execution_count": 36,
     "metadata": {},
     "output_type": "execute_result"
    }
   ],
   "source": [
    "ar1 = np.arange(9).reshape(3,3)\n",
    "ar1"
   ]
  },
  {
   "cell_type": "code",
   "execution_count": 37,
   "id": "composite-triumph",
   "metadata": {},
   "outputs": [
    {
     "data": {
      "text/plain": [
       "array([[10, 11, 12],\n",
       "       [13, 14, 15],\n",
       "       [16, 17, 18]])"
      ]
     },
     "execution_count": 37,
     "metadata": {},
     "output_type": "execute_result"
    }
   ],
   "source": [
    "ar1 + 10"
   ]
  },
  {
   "cell_type": "code",
   "execution_count": 38,
   "id": "informed-playback",
   "metadata": {},
   "outputs": [
    {
     "data": {
      "text/plain": [
       "array([[ 0, 10, 20],\n",
       "       [30, 40, 50],\n",
       "       [60, 70, 80]])"
      ]
     },
     "execution_count": 38,
     "metadata": {},
     "output_type": "execute_result"
    }
   ],
   "source": [
    "ar1 * 10"
   ]
  },
  {
   "cell_type": "code",
   "execution_count": 39,
   "id": "stuffed-guatemala",
   "metadata": {
    "scrolled": true
   },
   "outputs": [
    {
     "data": {
      "text/plain": [
       "array([[0.        , 0.33333333, 0.66666667],\n",
       "       [1.        , 1.33333333, 1.66666667],\n",
       "       [2.        , 2.33333333, 2.66666667]])"
      ]
     },
     "execution_count": 39,
     "metadata": {},
     "output_type": "execute_result"
    }
   ],
   "source": [
    "ar1 / 3"
   ]
  },
  {
   "cell_type": "markdown",
   "id": "cross-coverage",
   "metadata": {},
   "source": [
    "### 3.1. Tablice a macierze"
   ]
  },
  {
   "cell_type": "code",
   "execution_count": 40,
   "id": "democratic-march",
   "metadata": {},
   "outputs": [
    {
     "data": {
      "text/plain": [
       "array([[0, 1, 2]])"
      ]
     },
     "execution_count": 40,
     "metadata": {},
     "output_type": "execute_result"
    }
   ],
   "source": [
    "ar2 = np.arange(3).reshape(1,3)\n",
    "ar2"
   ]
  },
  {
   "cell_type": "code",
   "execution_count": 41,
   "id": "thrown-begin",
   "metadata": {},
   "outputs": [
    {
     "data": {
      "text/plain": [
       "array([[ 0,  1,  4],\n",
       "       [ 0,  4, 10],\n",
       "       [ 0,  7, 16]])"
      ]
     },
     "execution_count": 41,
     "metadata": {},
     "output_type": "execute_result"
    }
   ],
   "source": [
    "ar1 * ar2"
   ]
  },
  {
   "cell_type": "code",
   "execution_count": 42,
   "id": "cloudy-satin",
   "metadata": {},
   "outputs": [
    {
     "data": {
      "text/plain": [
       "array([[ 0,  1,  4],\n",
       "       [ 0,  4, 10],\n",
       "       [ 0,  7, 16]])"
      ]
     },
     "execution_count": 42,
     "metadata": {},
     "output_type": "execute_result"
    }
   ],
   "source": [
    "ar2 * ar1"
   ]
  },
  {
   "cell_type": "code",
   "execution_count": 43,
   "id": "recent-billion",
   "metadata": {},
   "outputs": [
    {
     "name": "stdout",
     "output_type": "stream",
     "text": [
      "[[0 1 2]\n",
      " [3 4 5]\n",
      " [6 7 8]]\n",
      "\n",
      "[[0 1 2]]\n"
     ]
    }
   ],
   "source": [
    "# konwersja na macierze\n",
    "m1 = np.asmatrix(ar1)\n",
    "m2 = np.asmatrix(ar2)\n",
    "print(m1,m2,sep='\\n\\n')"
   ]
  },
  {
   "cell_type": "code",
   "execution_count": 47,
   "id": "criminal-trauma",
   "metadata": {},
   "outputs": [
    {
     "data": {
      "text/plain": [
       "matrix([[15, 18, 21]])"
      ]
     },
     "execution_count": 47,
     "metadata": {},
     "output_type": "execute_result"
    }
   ],
   "source": [
    "# mnożenie macierzy\n",
    "m2 * m1"
   ]
  },
  {
   "cell_type": "code",
   "execution_count": 46,
   "id": "western-province",
   "metadata": {},
   "outputs": [
    {
     "ename": "ValueError",
     "evalue": "shapes (3,3) and (1,3) not aligned: 3 (dim 1) != 1 (dim 0)",
     "output_type": "error",
     "traceback": [
      "\u001b[0;31m---------------------------------------------------------------------------\u001b[0m",
      "\u001b[0;31mValueError\u001b[0m                                Traceback (most recent call last)",
      "\u001b[0;32m<ipython-input-46-ea28db5d2e2b>\u001b[0m in \u001b[0;36m<module>\u001b[0;34m\u001b[0m\n\u001b[1;32m      1\u001b[0m \u001b[0;31m# kolejność monożenia maierzy\u001b[0m\u001b[0;34m\u001b[0m\u001b[0;34m\u001b[0m\u001b[0;34m\u001b[0m\u001b[0m\n\u001b[0;32m----> 2\u001b[0;31m \u001b[0mm1\u001b[0m \u001b[0;34m*\u001b[0m \u001b[0mm2\u001b[0m\u001b[0;34m\u001b[0m\u001b[0;34m\u001b[0m\u001b[0m\n\u001b[0m",
      "\u001b[0;32m~/anaconda3/envs/doc2/lib/python3.9/site-packages/numpy/matrixlib/defmatrix.py\u001b[0m in \u001b[0;36m__mul__\u001b[0;34m(self, other)\u001b[0m\n\u001b[1;32m    216\u001b[0m         \u001b[0;32mif\u001b[0m \u001b[0misinstance\u001b[0m\u001b[0;34m(\u001b[0m\u001b[0mother\u001b[0m\u001b[0;34m,\u001b[0m \u001b[0;34m(\u001b[0m\u001b[0mN\u001b[0m\u001b[0;34m.\u001b[0m\u001b[0mndarray\u001b[0m\u001b[0;34m,\u001b[0m \u001b[0mlist\u001b[0m\u001b[0;34m,\u001b[0m \u001b[0mtuple\u001b[0m\u001b[0;34m)\u001b[0m\u001b[0;34m)\u001b[0m \u001b[0;34m:\u001b[0m\u001b[0;34m\u001b[0m\u001b[0;34m\u001b[0m\u001b[0m\n\u001b[1;32m    217\u001b[0m             \u001b[0;31m# This promotes 1-D vectors to row vectors\u001b[0m\u001b[0;34m\u001b[0m\u001b[0;34m\u001b[0m\u001b[0;34m\u001b[0m\u001b[0m\n\u001b[0;32m--> 218\u001b[0;31m             \u001b[0;32mreturn\u001b[0m \u001b[0mN\u001b[0m\u001b[0;34m.\u001b[0m\u001b[0mdot\u001b[0m\u001b[0;34m(\u001b[0m\u001b[0mself\u001b[0m\u001b[0;34m,\u001b[0m \u001b[0masmatrix\u001b[0m\u001b[0;34m(\u001b[0m\u001b[0mother\u001b[0m\u001b[0;34m)\u001b[0m\u001b[0;34m)\u001b[0m\u001b[0;34m\u001b[0m\u001b[0;34m\u001b[0m\u001b[0m\n\u001b[0m\u001b[1;32m    219\u001b[0m         \u001b[0;32mif\u001b[0m \u001b[0misscalar\u001b[0m\u001b[0;34m(\u001b[0m\u001b[0mother\u001b[0m\u001b[0;34m)\u001b[0m \u001b[0;32mor\u001b[0m \u001b[0;32mnot\u001b[0m \u001b[0mhasattr\u001b[0m\u001b[0;34m(\u001b[0m\u001b[0mother\u001b[0m\u001b[0;34m,\u001b[0m \u001b[0;34m'__rmul__'\u001b[0m\u001b[0;34m)\u001b[0m \u001b[0;34m:\u001b[0m\u001b[0;34m\u001b[0m\u001b[0;34m\u001b[0m\u001b[0m\n\u001b[1;32m    220\u001b[0m             \u001b[0;32mreturn\u001b[0m \u001b[0mN\u001b[0m\u001b[0;34m.\u001b[0m\u001b[0mdot\u001b[0m\u001b[0;34m(\u001b[0m\u001b[0mself\u001b[0m\u001b[0;34m,\u001b[0m \u001b[0mother\u001b[0m\u001b[0;34m)\u001b[0m\u001b[0;34m\u001b[0m\u001b[0;34m\u001b[0m\u001b[0m\n",
      "\u001b[0;32m<__array_function__ internals>\u001b[0m in \u001b[0;36mdot\u001b[0;34m(*args, **kwargs)\u001b[0m\n",
      "\u001b[0;31mValueError\u001b[0m: shapes (3,3) and (1,3) not aligned: 3 (dim 1) != 1 (dim 0)"
     ]
    }
   ],
   "source": [
    "# kolejność monożenia maierzy\n",
    "m1 * m2"
   ]
  },
  {
   "cell_type": "code",
   "execution_count": 50,
   "id": "consecutive-clinic",
   "metadata": {},
   "outputs": [
    {
     "data": {
      "text/plain": [
       "array([[15, 18, 21]])"
      ]
     },
     "execution_count": 50,
     "metadata": {},
     "output_type": "execute_result"
    }
   ],
   "source": [
    "# mnożenie tablic tak jak macierzy\n",
    "np.dot(ar2,ar1)"
   ]
  },
  {
   "cell_type": "code",
   "execution_count": 52,
   "id": "permanent-handling",
   "metadata": {},
   "outputs": [
    {
     "data": {
      "text/plain": [
       "array([[ 0,  2,  4],\n",
       "       [ 3,  5,  7],\n",
       "       [ 6,  8, 10]])"
      ]
     },
     "execution_count": 52,
     "metadata": {},
     "output_type": "execute_result"
    }
   ],
   "source": [
    "ar1 + ar2"
   ]
  },
  {
   "cell_type": "code",
   "execution_count": 53,
   "id": "collaborative-marine",
   "metadata": {},
   "outputs": [
    {
     "data": {
      "text/plain": [
       "matrix([[ 0,  2,  4],\n",
       "        [ 3,  5,  7],\n",
       "        [ 6,  8, 10]])"
      ]
     },
     "execution_count": 53,
     "metadata": {},
     "output_type": "execute_result"
    }
   ],
   "source": [
    "m1+m2"
   ]
  },
  {
   "cell_type": "markdown",
   "id": "respected-paste",
   "metadata": {},
   "source": [
    "### 3.2. Popularne działania"
   ]
  },
  {
   "cell_type": "code",
   "execution_count": 55,
   "id": "organized-shirt",
   "metadata": {},
   "outputs": [
    {
     "data": {
      "text/plain": [
       "array([[0, 1, 2],\n",
       "       [3, 4, 5],\n",
       "       [6, 7, 8]])"
      ]
     },
     "execution_count": 55,
     "metadata": {},
     "output_type": "execute_result"
    }
   ],
   "source": [
    "ar1"
   ]
  },
  {
   "cell_type": "code",
   "execution_count": 57,
   "id": "respective-acoustic",
   "metadata": {},
   "outputs": [
    {
     "name": "stdout",
     "output_type": "stream",
     "text": [
      "axis=None: 36\n",
      "ax=0: [ 9 12 15]\n",
      "ax=1: [ 3 12 21]\n"
     ]
    }
   ],
   "source": [
    "# sumowanie: cała tabela, wiersze, kolumny\n",
    "print(f'axis=None: {ar1.sum()}\\nax=0: {ar1.sum(0)}\\nax=1: {ar1.sum(1)}')"
   ]
  },
  {
   "cell_type": "code",
   "execution_count": 58,
   "id": "established-apache",
   "metadata": {},
   "outputs": [
    {
     "name": "stdout",
     "output_type": "stream",
     "text": [
      "Minimum:\n",
      "axis:None: 0\n",
      "ax:0: [0 1 2]\n",
      "ax:1: [0 3 6]\n",
      "\n",
      "\n",
      "Maximum:\n",
      "axis:None: 8\n",
      "ax:0: [6 7 8]\n",
      "ax:1: [2 5 8]\n"
     ]
    }
   ],
   "source": [
    "# min / max\n",
    "print(f'Minimum:\\naxis:None: {ar1.min()}\\nax:0: {ar1.min(0)}\\nax:1: {ar1.min(1)}\\n\\n')\n",
    "print(f'Maximum:\\naxis:None: {ar1.max()}\\nax:0: {ar1.max(0)}\\nax:1: {ar1.max(1)}')"
   ]
  },
  {
   "cell_type": "code",
   "execution_count": 59,
   "id": "backed-phenomenon",
   "metadata": {},
   "outputs": [
    {
     "name": "stdout",
     "output_type": "stream",
     "text": [
      "axis:None: 4.0\n",
      "ax:0: [3. 4. 5.]\n",
      "ax:1: [1. 4. 7.]\n"
     ]
    }
   ],
   "source": [
    "#średnie\n",
    "print(f'axis:None: {ar1.mean()}\\nax:0: {ar1.mean(0)}\\nax:1: {ar1.mean(1)}')"
   ]
  },
  {
   "cell_type": "code",
   "execution_count": 60,
   "id": "diverse-details",
   "metadata": {},
   "outputs": [
    {
     "name": "stdout",
     "output_type": "stream",
     "text": [
      "axis:None: 2.581988897471611\n",
      "ax:0: [2.44948974 2.44948974 2.44948974]\n",
      "ax:1: [0.81649658 0.81649658 0.81649658]\n"
     ]
    }
   ],
   "source": [
    "# odchylenia std.\n",
    "print(f'axis:None: {ar1.std()}\\nax:0: {ar1.std(0)}\\nax:1: {ar1.std(1)}')"
   ]
  },
  {
   "cell_type": "code",
   "execution_count": 61,
   "id": "amazing-messenger",
   "metadata": {},
   "outputs": [
    {
     "data": {
      "text/plain": [
       "array([0, 4, 8])"
      ]
     },
     "execution_count": 61,
     "metadata": {},
     "output_type": "execute_result"
    }
   ],
   "source": [
    "# wartości na przekątnej\n",
    "np.diagonal(ar1)"
   ]
  },
  {
   "cell_type": "markdown",
   "id": "oriental-office",
   "metadata": {},
   "source": [
    "## 4. generatory liczb pseudolosowych - przykłady"
   ]
  },
  {
   "cell_type": "code",
   "execution_count": 62,
   "id": "scientific-nursery",
   "metadata": {},
   "outputs": [],
   "source": [
    "# seed\n",
    "np.random.seed(11)"
   ]
  },
  {
   "cell_type": "code",
   "execution_count": 63,
   "id": "knowing-turtle",
   "metadata": {},
   "outputs": [
    {
     "data": {
      "text/plain": [
       "array([[6.62418211, 3.5708905 , 3.2731523 , 0.02002216, 3.98757306],\n",
       "       [3.52055295, 3.19505596, 4.473104  , 4.63157607, 2.40159553],\n",
       "       [2.6706405 , 3.28639976, 5.03452347, 4.84178826, 2.04167724]])"
      ]
     },
     "execution_count": 63,
     "metadata": {},
     "output_type": "execute_result"
    }
   ],
   "source": [
    "# rozkład normalny: średnia 4, std 1.5, size (3,5)\n",
    "np.random.seed(11)\n",
    "np.random.normal(4,1.5,(3,5))"
   ]
  },
  {
   "cell_type": "code",
   "execution_count": 78,
   "id": "decimal-purple",
   "metadata": {},
   "outputs": [
    {
     "data": {
      "text/plain": [
       "array([[ 1.862, 19.433,  9.677,  4.85 , 10.622,  5.711],\n",
       "       [17.253,  0.822,  2.167, 15.343,  1.029, 15.514],\n",
       "       [ 0.183, 12.366, 16.374, 17.972, 19.712,  9.935],\n",
       "       [ 7.046, 17.342,  7.938, 12.873,  0.409, 16.162],\n",
       "       [ 8.592, 11.171, 15.582,  8.051, 18.16 , 12.999],\n",
       "       [14.545, 15.591,  7.015,  0.393,  7.171,  6.065],\n",
       "       [18.381,  5.068,  4.823, 18.198, 15.536,  8.595]])"
      ]
     },
     "execution_count": 78,
     "metadata": {},
     "output_type": "execute_result"
    }
   ],
   "source": [
    "# rozkład jednostajny\n",
    "np.random.seed(55)\n",
    "w,c = 7,6\n",
    "ar = np.round(np.random.uniform(0,20,size=w*c).reshape(w,c),3)\n",
    "ar"
   ]
  },
  {
   "cell_type": "markdown",
   "id": "indie-hindu",
   "metadata": {},
   "source": [
    "## 5. Łączenie wierszy / kolumn"
   ]
  },
  {
   "cell_type": "code",
   "execution_count": 84,
   "id": "seventh-pencil",
   "metadata": {},
   "outputs": [
    {
     "name": "stdout",
     "output_type": "stream",
     "text": [
      "(20,)\n",
      "\n",
      "(20,)\n"
     ]
    },
    {
     "data": {
      "text/plain": [
       "array([[3.   , 6.683],\n",
       "       [4.   , 4.655],\n",
       "       [1.   , 4.145],\n",
       "       [4.   , 1.205],\n",
       "       [2.   , 3.584],\n",
       "       [4.   , 3.468],\n",
       "       [4.   , 3.876],\n",
       "       [1.   , 3.059],\n",
       "       [2.   , 3.934],\n",
       "       [1.   , 3.284],\n",
       "       [3.   , 2.029],\n",
       "       [2.   , 5.327],\n",
       "       [2.   , 5.322],\n",
       "       [4.   , 6.564],\n",
       "       [3.   , 4.075],\n",
       "       [1.   , 3.393],\n",
       "       [1.   , 3.182],\n",
       "       [4.   , 1.68 ],\n",
       "       [3.   , 5.474],\n",
       "       [1.   , 2.348]])"
      ]
     },
     "execution_count": 84,
     "metadata": {},
     "output_type": "execute_result"
    }
   ],
   "source": [
    "# łączenie kolumn\n",
    "np.random.seed(3)\n",
    "ar3 = np.random.normal(4,1.5,20).round(3)\n",
    "c1 = np.random.randint(1,5,20)\n",
    "print(ar3.shape,c1.shape,sep='\\n\\n')\n",
    "\n",
    "data = np.c_[c1,ar3]\n",
    "data"
   ]
  },
  {
   "cell_type": "code",
   "execution_count": 77,
   "id": "material-request",
   "metadata": {},
   "outputs": [
    {
     "name": "stdout",
     "output_type": "stream",
     "text": [
      "(1, 20)\n",
      "\n",
      "(1, 20)\n"
     ]
    },
    {
     "data": {
      "text/plain": [
       "array([[3.   , 4.   , 1.   , 4.   , 2.   , 4.   , 4.   , 1.   , 2.   ,\n",
       "        1.   , 3.   , 2.   , 2.   , 4.   , 3.   , 1.   , 1.   , 4.   ,\n",
       "        3.   , 1.   ],\n",
       "       [6.683, 4.655, 4.145, 1.205, 3.584, 3.468, 3.876, 3.059, 3.934,\n",
       "        3.284, 2.029, 5.327, 5.322, 6.564, 4.075, 3.393, 3.182, 1.68 ,\n",
       "        5.474, 2.348]])"
      ]
     },
     "execution_count": 77,
     "metadata": {},
     "output_type": "execute_result"
    }
   ],
   "source": [
    "# łączenie wierszy\n",
    "np.random.seed(3)\n",
    "ar3 = np.random.normal(4,1.5,20).round(3)\n",
    "ar3 = ar3.reshape(1,ar3.size) # zamiana na wiersz\n",
    "\n",
    "c1 = np.random.randint(1,5,20)\n",
    "c1 = c1.reshape(1,c1.size)\n",
    "print(ar3.shape,c1.shape,sep='\\n\\n')\n",
    "\n",
    "np.r_[c1,ar3]"
   ]
  },
  {
   "cell_type": "markdown",
   "id": "sustainable-benjamin",
   "metadata": {},
   "source": [
    "## 6. Inicjacja tabeli"
   ]
  },
  {
   "cell_type": "code",
   "execution_count": 80,
   "id": "empirical-fountain",
   "metadata": {},
   "outputs": [
    {
     "data": {
      "text/plain": [
       "array([], dtype=float64)"
      ]
     },
     "execution_count": 80,
     "metadata": {},
     "output_type": "execute_result"
    }
   ],
   "source": [
    "# pusta tabela\n",
    "np.array([])"
   ]
  },
  {
   "cell_type": "code",
   "execution_count": 81,
   "id": "convinced-anger",
   "metadata": {},
   "outputs": [
    {
     "data": {
      "text/plain": [
       "array([[1, 1, 1],\n",
       "       [1, 1, 1]])"
      ]
     },
     "execution_count": 81,
     "metadata": {},
     "output_type": "execute_result"
    }
   ],
   "source": [
    "# tabela jedynek o zadanym kształcie\n",
    "np.ones((2,3),dtype='int')"
   ]
  },
  {
   "cell_type": "code",
   "execution_count": 82,
   "id": "detailed-colon",
   "metadata": {},
   "outputs": [
    {
     "data": {
      "text/plain": [
       "array([[0., 0.],\n",
       "       [0., 0.],\n",
       "       [0., 0.]])"
      ]
     },
     "execution_count": 82,
     "metadata": {},
     "output_type": "execute_result"
    }
   ],
   "source": [
    "# tabela zer\n",
    "np.zeros((3,2))"
   ]
  },
  {
   "cell_type": "code",
   "execution_count": 83,
   "id": "outside-preliminary",
   "metadata": {},
   "outputs": [
    {
     "data": {
      "text/plain": [
       "array([[99, 99, 99, 99],\n",
       "       [99, 99, 99, 99],\n",
       "       [99, 99, 99, 99],\n",
       "       [99, 99, 99, 99]])"
      ]
     },
     "execution_count": 83,
     "metadata": {},
     "output_type": "execute_result"
    }
   ],
   "source": [
    "# tabela o zadanym kształcie wypełniona wartością\n",
    "np.full((4,4),99)"
   ]
  },
  {
   "cell_type": "markdown",
   "id": "pressing-score",
   "metadata": {},
   "source": [
    "## 7. Definiowanie funkcji"
   ]
  },
  {
   "cell_type": "code",
   "execution_count": 85,
   "id": "accredited-return",
   "metadata": {},
   "outputs": [],
   "source": [
    "def ss(a):\n",
    "    srG = {}\n",
    "    for i in np.unique(a[:,0]):\n",
    "        idx = a[:,0] == i\n",
    "        tmp = a[idx,1]\n",
    "        srG[int(i)] = np.round(np.mean(tmp),3)\n",
    "    print(srG)\n",
    "        "
   ]
  },
  {
   "cell_type": "code",
   "execution_count": 86,
   "id": "difficult-representative",
   "metadata": {},
   "outputs": [
    {
     "name": "stdout",
     "output_type": "stream",
     "text": [
      "{1: 3.235, 2: 4.542, 3: 4.565, 4: 3.575}\n"
     ]
    }
   ],
   "source": [
    "ss(data)"
   ]
  },
  {
   "cell_type": "markdown",
   "id": "independent-spelling",
   "metadata": {},
   "source": [
    "---\n",
    "\n",
    "# II. Matplotlib - wprowadzenie"
   ]
  },
  {
   "cell_type": "code",
   "execution_count": 87,
   "id": "finnish-correction",
   "metadata": {},
   "outputs": [
    {
     "data": {
      "text/plain": [
       "(array([0, 1, 2, 3, 4, 5, 6, 7, 8, 9]),\n",
       " array([ 3,  5,  7,  9, 11, 13, 15, 17, 19, 21]))"
      ]
     },
     "execution_count": 87,
     "metadata": {},
     "output_type": "execute_result"
    }
   ],
   "source": [
    "x = np.arange(10)\n",
    "y1 = x * 2 + 3\n",
    "y2 = x**3\n",
    "x,y1"
   ]
  },
  {
   "cell_type": "code",
   "execution_count": 88,
   "id": "civil-feedback",
   "metadata": {},
   "outputs": [
    {
     "data": {
      "image/png": "[encoded data removed]",
      "text/plain": [
       "<Figure size 432x288 with 1 Axes>"
      ]
     },
     "metadata": {
      "needs_background": "light"
     },
     "output_type": "display_data"
    }
   ],
   "source": [
    "plt.plot(x,y1,color='green', marker='o');\n",
    "plt.plot(x,y2,color='red', marker='+');\n",
    "plt.title('hkjkjjk');"
   ]
  },
  {
   "cell_type": "code",
   "execution_count": 89,
   "id": "external-patent",
   "metadata": {},
   "outputs": [
    {
     "data": {
      "image/png": "[encoded data removed]",
      "text/plain": [
       "<Figure size 432x288 with 1 Axes>"
      ]
     },
     "metadata": {
      "needs_background": "light"
     },
     "output_type": "display_data"
    }
   ],
   "source": [
    "plt.plot(x,y1,color='green', marker='o', label='lniowy');\n",
    "plt.plot(x,y2,color='red', marker='+', label='kwadrat');\n",
    "plt.title('hkjkjjk');\n",
    "plt.legend();"
   ]
  },
  {
   "cell_type": "code",
   "execution_count": 90,
   "id": "eight-thousand",
   "metadata": {},
   "outputs": [
    {
     "data": {
      "image/png": "[encoded data removed]",
      "text/plain": [
       "<Figure size 432x288 with 2 Axes>"
      ]
     },
     "metadata": {
      "needs_background": "light"
     },
     "output_type": "display_data"
    }
   ],
   "source": [
    "plt.subplot(2,1,1)\n",
    "plt.plot(x,y1,color='green', marker='o', label='lniowy');\n",
    "plt.title('tyt 1');\n",
    "plt.legend()\n",
    "\n",
    "plt.subplot(2,1,2)\n",
    "plt.plot(x,y2,color='red', marker='+', label='kwadrat');\n",
    "plt.title('tyt 2');\n",
    "plt.legend();\n"
   ]
  },
  {
   "cell_type": "code",
   "execution_count": 92,
   "id": "atlantic-termination",
   "metadata": {},
   "outputs": [
    {
     "data": {
      "text/plain": [
       "array([[3.   , 6.683],\n",
       "       [4.   , 4.655],\n",
       "       [1.   , 4.145],\n",
       "       [4.   , 1.205],\n",
       "       [2.   , 3.584],\n",
       "       [4.   , 3.468],\n",
       "       [4.   , 3.876],\n",
       "       [1.   , 3.059],\n",
       "       [2.   , 3.934],\n",
       "       [1.   , 3.284],\n",
       "       [3.   , 2.029],\n",
       "       [2.   , 5.327],\n",
       "       [2.   , 5.322],\n",
       "       [4.   , 6.564],\n",
       "       [3.   , 4.075],\n",
       "       [1.   , 3.393],\n",
       "       [1.   , 3.182],\n",
       "       [4.   , 1.68 ],\n",
       "       [3.   , 5.474],\n",
       "       [1.   , 2.348]])"
      ]
     },
     "execution_count": 92,
     "metadata": {},
     "output_type": "execute_result"
    }
   ],
   "source": [
    "data"
   ]
  },
  {
   "cell_type": "code",
   "execution_count": 110,
   "id": "alpine-supervisor",
   "metadata": {},
   "outputs": [
    {
     "name": "stdout",
     "output_type": "stream",
     "text": [
      "n: [1. 2. 3. 4.]\n",
      "Grupy:\n",
      "[array([4.145, 3.059, 3.284, 3.393, 3.182, 2.348]), array([3.584, 3.934, 5.327, 5.322]), array([6.683, 2.029, 4.075, 5.474]), array([4.655, 1.205, 3.468, 3.876, 6.564, 1.68 ])]\n",
      "\n"
     ]
    },
    {
     "data": {
      "image/png": "[encoded data removed]",
      "text/plain": [
       "<Figure size 432x288 with 1 Axes>"
      ]
     },
     "metadata": {
      "needs_background": "light"
     },
     "output_type": "display_data"
    }
   ],
   "source": [
    "# podział danych na grupy\n",
    "# unikalne indeksy n kolumny '0'\n",
    "n = np.unique(data[:,0])\n",
    "\n",
    "# grupy\n",
    "gr = [data[data[:,0] == i,1] for i in n]\n",
    "print(f'n: {n}\\nGrupy:\\n{gr}\\n')\n",
    "\n",
    "# boxplot\n",
    "plt.boxplot(gr);"
   ]
  },
  {
   "cell_type": "code",
   "execution_count": 111,
   "id": "martial-mount",
   "metadata": {},
   "outputs": [
    {
     "data": {
      "image/png": "[encoded data removed]",
      "text/plain": [
       "<Figure size 432x288 with 1 Axes>"
      ]
     },
     "metadata": {
      "needs_background": "light"
     },
     "output_type": "display_data"
    }
   ],
   "source": [
    "plt.hist(data[:,1]);"
   ]
  },
  {
   "cell_type": "code",
   "execution_count": 112,
   "id": "central-exposure",
   "metadata": {},
   "outputs": [],
   "source": [
    "d = np.random.normal(5,1.5,1000)"
   ]
  },
  {
   "cell_type": "code",
   "execution_count": 114,
   "id": "entertaining-qatar",
   "metadata": {},
   "outputs": [
    {
     "data": {
      "image/png": "[encoded data removed]",
      "text/plain": [
       "<Figure size 432x288 with 1 Axes>"
      ]
     },
     "metadata": {
      "needs_background": "light"
     },
     "output_type": "display_data"
    }
   ],
   "source": [
    "plt.hist(d,bins=30);\n",
    "plt.yticks(list(range(0,120,30)),['a','b','c','d']);"
   ]
  },
  {
   "cell_type": "code",
   "execution_count": 118,
   "id": "abandoned-intermediate",
   "metadata": {},
   "outputs": [
    {
     "data": {
      "image/png": "[encoded data removed]",
      "text/plain": [
       "<Figure size 432x288 with 1 Axes>"
      ]
     },
     "metadata": {
      "needs_background": "light"
     },
     "output_type": "display_data"
    }
   ],
   "source": [
    "# scatter plot\n",
    "plt.scatter(data[:,0],data[:,1]);\n",
    "mm = data[:,1].mean()\n",
    "yy = np.full(data.shape[0],mm)\n",
    "plt.plot(data[:,0],yy,linestyle='--', color='r');"
   ]
  },
  {
   "cell_type": "code",
   "execution_count": 126,
   "id": "dedicated-parts",
   "metadata": {},
   "outputs": [
    {
     "name": "stdout",
     "output_type": "stream",
     "text": [
      "x: [-20 -19 -18 -17 -16 -15 -14 -13 -12 -11 -10  -9  -8  -7  -6  -5  -4  -3\n",
      "  -2  -1   0   1   2   3   4   5   6   7   8   9  10  11  12  13  14  15\n",
      "  16  17  18  19  20]\n",
      "\n",
      "er: [ 0.515  1.955  1.374  0.793  0.895  0.955  0.763  1.096  1.342  1.609\n",
      "  0.817  0.853  0.833  1.014  1.531  0.621  2.103  1.277  1.556  0.548\n",
      "  0.812  0.738  1.024 -0.019  1.25   0.159  1.191  1.514  0.976  0.921\n",
      "  0.923  0.898  1.142  1.467  1.338  1.768  1.066  0.766  0.79   0.407\n",
      "  0.834]\n",
      "\n"
     ]
    },
    {
     "data": {
      "image/png": "[encoded data removed]",
      "text/plain": [
       "<Figure size 432x288 with 1 Axes>"
      ]
     },
     "metadata": {
      "needs_background": "light"
     },
     "output_type": "display_data"
    }
   ],
   "source": [
    "# prosta regresja\n",
    "x = np.arange(-20,21)\n",
    "er = np.random.normal(1,0.5,x.size).round(3)\n",
    "print(f'x: {x}\\n\\ner: {er}\\n')\n",
    "\n",
    "y = x**3 * er\n",
    "plt.plot(x,y,'.');"
   ]
  },
  {
   "cell_type": "code",
   "execution_count": 129,
   "id": "declared-surface",
   "metadata": {},
   "outputs": [
    {
     "name": "stdout",
     "output_type": "stream",
     "text": [
      "yy:\n",
      "[-8278.374 -7211.801 -6241.043 -5361.366 -4568.037 -3856.322 -3221.489\n",
      " -2658.805 -2163.536 -1730.95  -1356.314 -1034.893  -761.956  -532.77\n",
      "  -342.6    -186.715   -60.38     41.136   122.568   188.647   244.108\n",
      "   293.683   342.106   394.109   454.425   527.788   618.93    732.586\n",
      "   873.486  1046.366  1255.958  1506.994  1804.209  2152.334  2556.104\n",
      "  3020.251  3549.508  4148.609  4822.286  5575.272  6412.301]\n",
      "\n"
     ]
    },
    {
     "data": {
      "image/png": "[encoded data removed]",
      "text/plain": [
       "<Figure size 432x288 with 1 Axes>"
      ]
     },
     "metadata": {
      "needs_background": "light"
     },
     "output_type": "display_data"
    }
   ],
   "source": [
    "model = np.polyfit(x,y,3)\n",
    "p = np.poly1d(model)\n",
    "yy = p(x).round(3)\n",
    "print(f'yy:\\n{yy}\\n')\n",
    "\n",
    "plt.plot(x,y,'.');\n",
    "plt.plot(x,yy,'--r');"
   ]
  },
  {
   "cell_type": "code",
   "execution_count": 119,
   "id": "radical-tongue",
   "metadata": {},
   "outputs": [
    {
     "data": {
      "text/plain": [
       "array([[136, 249, 233, ..., 242, 172, 120],\n",
       "       [207,  35, 151, ...,  63, 227, 130],\n",
       "       [ 16, 238, 231, ...,  98,   8,  14],\n",
       "       ...,\n",
       "       [ 65, 222, 242, ...,  30, 106,  80],\n",
       "       [141,   3, 112, ..., 145, 125,  42],\n",
       "       [  6, 100,  65, ...,  41, 105,  13]])"
      ]
     },
     "execution_count": 119,
     "metadata": {},
     "output_type": "execute_result"
    }
   ],
   "source": [
    "# wyświetlanie obrazu jednokanałowego - 8bitów\n",
    "im = np.random.randint(0,256,50*50).reshape(50,50)\n",
    "im"
   ]
  },
  {
   "cell_type": "code",
   "execution_count": 120,
   "id": "injured-filter",
   "metadata": {},
   "outputs": [
    {
     "data": {
      "image/png": "[encoded data removed]",
      "text/plain": [
       "<Figure size 432x288 with 1 Axes>"
      ]
     },
     "metadata": {
      "needs_background": "light"
     },
     "output_type": "display_data"
    }
   ],
   "source": [
    "plt.imshow(im);"
   ]
  },
  {
   "cell_type": "code",
   "execution_count": 121,
   "id": "constitutional-label",
   "metadata": {},
   "outputs": [
    {
     "data": {
      "image/png": "[encoded data removed]",
      "text/plain": [
       "<Figure size 432x288 with 1 Axes>"
      ]
     },
     "metadata": {
      "needs_background": "light"
     },
     "output_type": "display_data"
    }
   ],
   "source": [
    "plt.imshow(im,cmap = plt.cm.gist_gray_r);"
   ]
  }
 ],
 "metadata": {
  "kernelspec": {
   "display_name": "Python [conda env:doc2]",
   "language": "python",
   "name": "conda-env-doc2-py"
  },
  "language_info": {
   "codemirror_mode": {
    "name": "ipython",
    "version": 3
   },
   "file_extension": ".py",
   "mimetype": "text/x-python",
   "name": "python",
   "nbconvert_exporter": "python",
   "pygments_lexer": "ipython3",
   "version": "3.9.2"
  },
  "latex_envs": {
   "LaTeX_envs_menu_present": true,
   "autoclose": false,
   "autocomplete": true,
   "bibliofile": "biblio.bib",
   "cite_by": "apalike",
   "current_citInitial": 1,
   "eqLabelWithNumbers": true,
   "eqNumInitial": 1,
   "hotkeys": {
    "equation": "Ctrl-E",
    "itemize": "Ctrl-I"
   },
   "labels_anchors": false,
   "latex_user_defs": false,
   "report_style_numbering": false,
   "user_envs_cfg": false
  }
 },
 "nbformat": 4,
 "nbformat_minor": 5
}
